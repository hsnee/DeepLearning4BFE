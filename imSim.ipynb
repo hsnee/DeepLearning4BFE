{
 "cells": [
  {
   "cell_type": "code",
   "execution_count": 1,
   "metadata": {},
   "outputs": [
    {
     "name": "stdout",
     "output_type": "stream",
     "text": [
      "Warning: using an unexpected kernel\n"
     ]
    }
   ],
   "source": [
    "import sys;\n",
    "if sys.version != '3.6.2 |Continuum Analytics, Inc.| (default, Jul 20 2017, 13:51:32) \\n[GCC 4.4.7 20120313 (Red Hat 4.4.7-1)]':\n",
    "    print('Warning: using an unexpected kernel')"
   ]
  },
  {
   "cell_type": "code",
   "execution_count": 2,
   "metadata": {},
   "outputs": [],
   "source": [
    "import desc.imsim as imsim"
   ]
  },
  {
   "cell_type": "code",
   "execution_count": 3,
   "metadata": {},
   "outputs": [
    {
     "name": "stdout",
     "output_type": "stream",
     "text": [
      "Populating the interactive namespace from numpy and matplotlib\n"
     ]
    }
   ],
   "source": [
    "%pylab inline\n",
    "import seaborn as sns;sns.set_style('darkgrid')\n",
    "%config InlineBackend.figure_format = 'retina'\n",
    "matplotlib.rcParams['figure.figsize'] = 19,14\n",
    "sns.set_context('poster',font_scale=1.4)"
   ]
  },
  {
   "cell_type": "code",
   "execution_count": 26,
   "metadata": {},
   "outputs": [],
   "source": [
    "from lsst.sims.catalogs.definitions import InstanceCatalog\n",
    "import lsst.sims.GalSimInterface.galSimCatalogs as cats\n",
    "import lsst.sims.catUtils.exampleCatalogDefinitions as exampleCats\n",
    "from lsst.sims.catalogs.db import CatalogDBObject\n",
    "import lsst.sims.catUtils.baseCatalogModels as baseCatalogModels\n",
    "from lsst.sims.catUtils.baseCatalogModels import *\n",
    "from lsst.sims.catUtils.exampleCatalogDefinitions import *\n",
    "from lsst.sims.utils import ObservationMetaData\n",
    "from lsst.sims.catUtils.exampleCatalogDefinitions import ObsStarCatalogBase\n",
    "from lsst.sims.catUtils.baseCatalogModels.StarModels import StarObj\n",
    "from lsst.sims.catUtils.exampleCatalogDefinitions import ObsStarCatalogBase\n",
    "from lsst.sims.catUtils.mixins import AstrometryStars, CameraCoordsLSST, ObsMetaMixin, PhotometryStars, VariabilityStars"
   ]
  },
  {
   "cell_type": "markdown",
   "metadata": {},
   "source": [
    "### Creating observation metadata"
   ]
  },
  {
   "cell_type": "code",
   "execution_count": 16,
   "metadata": {},
   "outputs": [],
   "source": [
    "from lsst.sims.catUtils.utils import ObservationMetaDataGenerator\n",
    "from lsst.sims.catUtils.baseCatalogModels import StarObj\n",
    "from lsst.sims.catUtils.exampleCatalogDefinitions import DefaultPhoSimHeaderMap\n",
    "from lsst.sims.catUtils.exampleCatalogDefinitions import PhoSimCatalogPoint\n",
    "import copy"
   ]
  },
  {
   "cell_type": "code",
   "execution_count": 17,
   "metadata": {},
   "outputs": [],
   "source": [
    "sensor='R:2,2 S:1,1'\n",
    "fov=0.5\n",
    "obsHistID=1202251\n",
    "opsimdb='/global/projecta/projectdirs/lsst/groups/SSim/DC1/minion_1016_sqlite_new_dithers.db'"
   ]
  },
  {
   "cell_type": "code",
   "execution_count": 18,
   "metadata": {},
   "outputs": [],
   "source": [
    "obs_gen = ObservationMetaDataGenerator(database=opsimdb, driver='sqlite')\n",
    "obs_md = obs_gen.getObservationMetaData(obsHistID=obsHistID,\n",
    "                                    boundType='circle',\n",
    "                                    boundLength=fov)[0]"
   ]
  },
  {
   "cell_type": "code",
   "execution_count": 19,
   "metadata": {},
   "outputs": [],
   "source": [
    "star_db = StarObj(database='LSSTCATSIM', host='fatboy.phys.washington.edu',\n",
    "                      port=1433, driver='mssql+pymssql')"
   ]
  },
  {
   "cell_type": "code",
   "execution_count": 20,
   "metadata": {},
   "outputs": [],
   "source": [
    "phosim_header_map = copy.deepcopy(DefaultPhoSimHeaderMap)\n",
    "phosim_header_map['nsnap'] = 1\n",
    "phosim_header_map['vistime'] = 30.0\n",
    "phosim_header_map['camconfig'] = 1\n",
    "phosim_header_map['rawSeeing'] = ('rawSeeing', None)\n",
    "phosim_header_map['FWHMgeom'] = ('FWHMgeom', None)\n",
    "phosim_header_map['FWHMeff'] = ('FWHMeff', None)"
   ]
  },
  {
   "cell_type": "code",
   "execution_count": 21,
   "metadata": {},
   "outputs": [],
   "source": [
    "cat = PhoSimCatalogPoint(star_db, obs_metadata=obs_md)\n",
    "cat.phoSimHeaderMap = phosim_header_map"
   ]
  },
  {
   "cell_type": "code",
   "execution_count": 22,
   "metadata": {},
   "outputs": [
    {
     "name": "stderr",
     "output_type": "stream",
     "text": [
      "WARNING: ErfaWarning: ERFA function \"utcut1\" yielded 1 of \"dubious year (Note 3)\" [astropy._erfa.core]\n"
     ]
    }
   ],
   "source": [
    "cat.write_catalog('test.cat', chunk_size=100000, write_header=True)"
   ]
  },
  {
   "cell_type": "markdown",
   "metadata": {},
   "source": [
    "Imsim can run on this catalog by running:\n",
    "```\n",
    "$ imsim.py test.cat\n",
    "```"
   ]
  },
  {
   "cell_type": "markdown",
   "metadata": {},
   "source": [
    "### Using default reference star catalogs"
   ]
  },
  {
   "cell_type": "code",
   "execution_count": 33,
   "metadata": {},
   "outputs": [],
   "source": [
    "db = CatalogDBObject.from_objid('allstars', database='LSSTCATSIM', host='fatboy.phys.washington.edu', port=1433, driver='mssql+pymssql')"
   ]
  },
  {
   "cell_type": "code",
   "execution_count": 45,
   "metadata": {},
   "outputs": [],
   "source": [
    "# observation meta data restricts the catalog to a very small area on the sky so it doesn't take a lot of time for now.\n",
    "cat = db.getCatalog('ref_catalog_star', ObservationMetaData(boundType='circle', boundLength=0.02, pointingDec=0, pointingRA=0, mjd=52000.))"
   ]
  },
  {
   "cell_type": "code",
   "execution_count": 41,
   "metadata": {},
   "outputs": [],
   "source": [
    "cat.write_catalog('reference_cat.txt', chunk_size=10)"
   ]
  },
  {
   "cell_type": "code",
   "execution_count": 27,
   "metadata": {
    "scrolled": false
   },
   "outputs": [
    {
     "ename": "AttributeError",
     "evalue": "module 'desc.imsim.imSim' has no attribute 'Kolmogorov_and_Gaussian_PSF'",
     "output_type": "error",
     "traceback": [
      "\u001b[0;31m---------------------------------------------------------------------------\u001b[0m",
      "\u001b[0;31mAttributeError\u001b[0m                            Traceback (most recent call last)",
      "\u001b[0;32m<ipython-input-27-901d65ad3e9a>\u001b[0m in \u001b[0;36m<module>\u001b[0;34m()\u001b[0m\n\u001b[0;32m----> 1\u001b[0;31m \u001b[0mpsf\u001b[0m \u001b[0;34m=\u001b[0m \u001b[0mimsim\u001b[0m\u001b[0;34m.\u001b[0m\u001b[0mimSim\u001b[0m\u001b[0;34m.\u001b[0m\u001b[0mKolmogorov_and_Gaussian_PSF\u001b[0m\u001b[0;34m(\u001b[0m\u001b[0;34m)\u001b[0m\u001b[0;34m\u001b[0m\u001b[0m\n\u001b[0m\u001b[1;32m      2\u001b[0m \u001b[0mimsim\u001b[0m\u001b[0;34m.\u001b[0m\u001b[0mImageSimulator\u001b[0m\u001b[0;34m(\u001b[0m\u001b[0;34m'reference_cat.txt'\u001b[0m\u001b[0;34m,\u001b[0m \u001b[0mpsf\u001b[0m\u001b[0;34m=\u001b[0m\u001b[0mpsf\u001b[0m\u001b[0;34m)\u001b[0m\u001b[0;34m\u001b[0m\u001b[0m\n",
      "\u001b[0;31mAttributeError\u001b[0m: module 'desc.imsim.imSim' has no attribute 'Kolmogorov_and_Gaussian_PSF'"
     ]
    }
   ],
   "source": [
    "psf = imsim.imSim.Kolmogorov_and_Gaussian_PSF()\n",
    "imsim.ImageSimulator('reference_cat.txt', psf=psf)"
   ]
  },
  {
   "cell_type": "markdown",
   "metadata": {},
   "source": [
    "### Writing a class to check if I can get (one of) the missing info from the above catalog\n",
    "Full list in error message"
   ]
  },
  {
   "cell_type": "code",
   "execution_count": 53,
   "metadata": {},
   "outputs": [],
   "source": [
    "class myCat(InstanceCatalog, AstrometryStars, CameraCoordsLSST, PhotometryStars, VariabilityStars): \n",
    "# inheriting from a bunch of classes just in case one of them can provide a way to calculate the sunalt\n",
    "        column_outputs = ['sunalt']"
   ]
  },
  {
   "cell_type": "code",
   "execution_count": 54,
   "metadata": {},
   "outputs": [
    {
     "ename": "ValueError",
     "evalue": "Required columns missing from database: (sunalt)",
     "output_type": "error",
     "traceback": [
      "\u001b[0;31m---------------------------------------------------------------------------\u001b[0m",
      "\u001b[0;31mValueError\u001b[0m                                Traceback (most recent call last)",
      "\u001b[0;32m<ipython-input-54-2d8a40f9aba1>\u001b[0m in \u001b[0;36m<module>\u001b[0;34m()\u001b[0m\n\u001b[0;32m----> 1\u001b[0;31m \u001b[0mcat\u001b[0m \u001b[0;34m=\u001b[0m \u001b[0mmyCat\u001b[0m\u001b[0;34m(\u001b[0m\u001b[0mdb\u001b[0m\u001b[0;34m,\u001b[0m \u001b[0mObservationMetaData\u001b[0m\u001b[0;34m(\u001b[0m\u001b[0mboundType\u001b[0m\u001b[0;34m=\u001b[0m\u001b[0;34m'circle'\u001b[0m\u001b[0;34m,\u001b[0m \u001b[0mboundLength\u001b[0m\u001b[0;34m=\u001b[0m\u001b[0;36m0.02\u001b[0m\u001b[0;34m,\u001b[0m \u001b[0mpointingDec\u001b[0m\u001b[0;34m=\u001b[0m\u001b[0;36m0\u001b[0m\u001b[0;34m,\u001b[0m \u001b[0mpointingRA\u001b[0m\u001b[0;34m=\u001b[0m\u001b[0;36m0\u001b[0m\u001b[0;34m,\u001b[0m \u001b[0mmjd\u001b[0m\u001b[0;34m=\u001b[0m\u001b[0;36m52000.\u001b[0m\u001b[0;34m)\u001b[0m\u001b[0;34m)\u001b[0m\u001b[0;34m\u001b[0m\u001b[0m\n\u001b[0m",
      "\u001b[0;32m/global/common/software/lsst/cori-haswell-gcc/stack/w.2018.19_sim2.8.0/stack/miniconda3-4.3.21-10a4fa6/Linux64/sims_catalogs/2.8.0.sims/python/lsst/sims/catalogs/definitions/InstanceCatalog.py\u001b[0m in \u001b[0;36m__init__\u001b[0;34m(self, db_obj, obs_metadata, column_outputs, constraint, specFileMap, cannot_be_null)\u001b[0m\n\u001b[1;32m    318\u001b[0m                     \u001b[0mself\u001b[0m\u001b[0;34m.\u001b[0m\u001b[0m_column_outputs\u001b[0m\u001b[0;34m.\u001b[0m\u001b[0mappend\u001b[0m\u001b[0;34m(\u001b[0m\u001b[0mname\u001b[0m\u001b[0;34m)\u001b[0m\u001b[0;34m\u001b[0m\u001b[0m\n\u001b[1;32m    319\u001b[0m \u001b[0;34m\u001b[0m\u001b[0m\n\u001b[0;32m--> 320\u001b[0;31m         \u001b[0mself\u001b[0m\u001b[0;34m.\u001b[0m\u001b[0m_check_requirements\u001b[0m\u001b[0;34m(\u001b[0m\u001b[0;34m)\u001b[0m\u001b[0;34m\u001b[0m\u001b[0m\n\u001b[0m\u001b[1;32m    321\u001b[0m \u001b[0;34m\u001b[0m\u001b[0m\n\u001b[1;32m    322\u001b[0m     \u001b[0;32mdef\u001b[0m \u001b[0m_set_current_chunk\u001b[0m\u001b[0;34m(\u001b[0m\u001b[0mself\u001b[0m\u001b[0;34m,\u001b[0m \u001b[0mchunk\u001b[0m\u001b[0;34m,\u001b[0m \u001b[0mcolumn_cache\u001b[0m\u001b[0;34m=\u001b[0m\u001b[0;32mNone\u001b[0m\u001b[0;34m)\u001b[0m\u001b[0;34m:\u001b[0m\u001b[0;34m\u001b[0m\u001b[0m\n",
      "\u001b[0;32m/global/common/software/lsst/cori-haswell-gcc/stack/w.2018.19_sim2.8.0/stack/miniconda3-4.3.21-10a4fa6/Linux64/sims_catalogs/2.8.0.sims/python/lsst/sims/catalogs/definitions/InstanceCatalog.py\u001b[0m in \u001b[0;36m_check_requirements\u001b[0;34m(self)\u001b[0m\n\u001b[1;32m    423\u001b[0m             \u001b[0;32mif\u001b[0m \u001b[0mlen\u001b[0m\u001b[0;34m(\u001b[0m\u001b[0mnodefault\u001b[0m\u001b[0;34m)\u001b[0m \u001b[0;34m>\u001b[0m \u001b[0;36m0\u001b[0m\u001b[0;34m:\u001b[0m\u001b[0;34m\u001b[0m\u001b[0m\n\u001b[1;32m    424\u001b[0m                 raise ValueError(\"Required columns missing from database: \"\n\u001b[0;32m--> 425\u001b[0;31m                                  \"({0})\".format(', '.join(nodefault)))\n\u001b[0m\u001b[1;32m    426\u001b[0m \u001b[0;34m\u001b[0m\u001b[0m\n\u001b[1;32m    427\u001b[0m         \u001b[0;32mif\u001b[0m \u001b[0mself\u001b[0m\u001b[0;34m.\u001b[0m\u001b[0mverbose\u001b[0m\u001b[0;34m:\u001b[0m\u001b[0;34m\u001b[0m\u001b[0m\n",
      "\u001b[0;31mValueError\u001b[0m: Required columns missing from database: (sunalt)"
     ]
    }
   ],
   "source": [
    "cat = myCat(db, ObservationMetaData(boundType='circle', boundLength=0.02, pointingDec=0, pointingRA=0, mjd=52000.))"
   ]
  },
  {
   "cell_type": "code",
   "execution_count": 42,
   "metadata": {},
   "outputs": [
    {
     "name": "stdout",
     "output_type": "stream",
     "text": [
      "uniqueId, objId, id, meanRaJ2000, meanDecJ2000, umag, gmag, rmag, imag, zmag, ym\n",
      "ag\n",
      "1125290210308, 1098916221, 1098916221, 0.00764670, 0.00011560, 29.19084640, 27.0\n",
      "9697290, 26.11636920, 25.71587420, 25.53324020, 25.42696620\n",
      "1195375732740, 1167359114, 1167359114, 0.00240610, 0.00844200, 18.43611590, 17.5\n",
      "9754980, 17.29636530, 17.19141780, 17.16234610, 17.15884150\n",
      "1125291210756, 1098917198, 1098917198, 0.01583110, 0.00862440, 29.22162850, 26.8\n",
      "8769100, 25.62834040, 25.05813290, 24.77984400, 24.62647390\n",
      "1134779251716, 1108182863, 1108182863, 359.99434240, 0.01709800, 31.69304000, 29\n",
      ".15745000, 27.92010000, 26.83725000, 26.33434000, 26.11016000\n",
      "1013810062340, 990048889, 990048889, 359.98859340, 0.01590100, 31.69513000, 29.8\n",
      "3290000, 28.21852000, 25.62055000, 24.20004000, 23.02735000\n",
      "1125289922564, 1098915940, 1098915940, 359.99602460, 0.01885590, 27.10841860, 25\n",
      ".24763410, 24.41322380, 24.08392740, 23.93605040, 23.84466260\n",
      "1125289024516, 1098915063, 1098915063, 359.98736380, 0.01390880, 24.62237790, 23\n",
      ".08302070, 22.46409920, 22.23983500, 22.15108380, 22.09575860\n",
      "1195375283204, 1167358675, 1167358675, 359.99521100, -0.00578630, 26.31516000, 2\n",
      "3.84108000, 22.57539000, 21.82718000, 21.46629000, 21.28905000\n",
      "1134778891268, 1108182511, 1108182511, 359.99788830, -0.00631390, 30.60094000, 2\n",
      "8.06495000, 26.82727000, 25.74419000, 25.24112000, 25.01684000\n",
      "1125288513540, 1098914564, 1098914564, 359.99379390, -0.01450310, 31.31616000, 2\n",
      "8.84208000, 27.57639000, 26.82818000, 26.46729000, 26.29005000\n",
      "1134778537988, 1108182166, 1108182166, 359.99206920, -0.00809780, 29.10599000, 2\n",
      "\u001b[Km--More--(88%)\u001b[m"
     ]
    }
   ],
   "source": [
    "!more reference_cat.txt"
   ]
  }
 ],
 "metadata": {
  "kernelspec": {
   "display_name": "lsst",
   "language": "python",
   "name": "lsst"
  },
  "language_info": {
   "codemirror_mode": {
    "name": "ipython",
    "version": 3
   },
   "file_extension": ".py",
   "mimetype": "text/x-python",
   "name": "python",
   "nbconvert_exporter": "python",
   "pygments_lexer": "ipython3",
   "version": "3.6.3"
  }
 },
 "nbformat": 4,
 "nbformat_minor": 2
}
